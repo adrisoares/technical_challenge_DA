{
  "nbformat": 4,
  "nbformat_minor": 0,
  "metadata": {
    "colab": {
      "provenance": []
    },
    "kernelspec": {
      "name": "python3",
      "display_name": "Python 3"
    },
    "language_info": {
      "name": "python"
    }
  },
  "cells": [
    {
      "cell_type": "code",
      "execution_count": 109,
      "metadata": {
        "id": "hUm-6WnPZHA3"
      },
      "outputs": [],
      "source": [
        "# import my favourite libs\n",
        "import pandas as pd\n",
        "import numpy as np\n",
        "import seaborn as sns\n",
        "import matplotlib.pyplot as plt\n",
        "from sklearn.linear_model import LinearRegression"
      ]
    },
    {
      "cell_type": "code",
      "source": [
        "df1 = pd.read_csv(\"/content/measurements.csv\")\n",
        "print(f\"Shape of csv file is {df1.shape[0]} rows and {df1.shape[1]} columns\")\n",
        "print(\"\\nCollumn names are:\", df1.columns)"
      ],
      "metadata": {
        "id": "L7vHk_6HZarg"
      },
      "execution_count": null,
      "outputs": []
    },
    {
      "cell_type": "code",
      "source": [
        "print(df1.dtypes)\n",
        "df1.head()"
      ],
      "metadata": {
        "id": "jFu9pN8LbRaJ"
      },
      "execution_count": null,
      "outputs": []
    },
    {
      "cell_type": "code",
      "source": [
        "# cleaning the name of the columns\n",
        "new_columns = []\n",
        "for name in df1.columns:\n",
        "    name = name.lower().replace(' ', '_')\n",
        "    new_columns.append(name)\n",
        "\n",
        "# Assign the updated column names to df\n",
        "df1.columns = (new_columns)\n",
        "df1.columns"
      ],
      "metadata": {
        "id": "IoIEM361qe39"
      },
      "execution_count": null,
      "outputs": []
    },
    {
      "cell_type": "code",
      "source": [
        "# now changing types\n",
        "new_types = [\"distance\", \"consume\", \"temp_inside\"]\n",
        "for col in new_types:\n",
        "    df1[col] = df1[col].str.replace(',', '.').astype(float)\n",
        "\n",
        "print(df1.dtypes)"
      ],
      "metadata": {
        "id": "KyMKLotEtVdI"
      },
      "execution_count": null,
      "outputs": []
    },
    {
      "cell_type": "code",
      "source": [
        "df1 #Looking for a cleaned data"
      ],
      "metadata": {
        "id": "VdWXXBrJqezO"
      },
      "execution_count": null,
      "outputs": []
    },
    {
      "cell_type": "code",
      "source": [
        "df2 = pd.read_excel(\"/content/measurements2.xlsx\")\n",
        "print(f\"Shape of csv file is {df2.shape[0]} rows and {df2.shape[1]} columns\")\n",
        "print(\"\\nCollumn names are:\", df2.columns)"
      ],
      "metadata": {
        "id": "IB5CJ7z0vOh1"
      },
      "execution_count": null,
      "outputs": []
    },
    {
      "cell_type": "code",
      "source": [
        "#checking dtypes\n",
        "print(df2.dtypes)\n",
        "df2.head()"
      ],
      "metadata": {
        "id": "imvpgt1tvOfa"
      },
      "execution_count": null,
      "outputs": []
    },
    {
      "cell_type": "code",
      "source": [
        "# Checking if they are the same data or not:\n",
        "merged_data = df1.merge(df2, how ='outer', indicator = True)"
      ],
      "metadata": {
        "id": "ukF_uLfBvOaU"
      },
      "execution_count": 116,
      "outputs": []
    },
    {
      "cell_type": "code",
      "source": [
        "data = merged_data\n",
        "data"
      ],
      "metadata": {
        "id": "FQwAINbOqeuU"
      },
      "execution_count": null,
      "outputs": []
    },
    {
      "cell_type": "code",
      "source": [
        "# Explore the final dataset now\n",
        "data.columns"
      ],
      "metadata": {
        "id": "2qPJvGIHqepk"
      },
      "execution_count": null,
      "outputs": []
    },
    {
      "cell_type": "code",
      "source": [
        "# going to drop the columns that got repeated after the merge\n",
        "columns_to_drop = [\"refill liters\", \"refill gas\",\"_merge\",\"AC\"]\n",
        "data = data.drop(columns = columns_to_drop)"
      ],
      "metadata": {
        "id": "Tg6pezSLmrHj"
      },
      "execution_count": 119,
      "outputs": []
    },
    {
      "cell_type": "code",
      "source": [
        "# Check the final presentation:\n",
        "print(\"DataFrame after dropping columns:\")\n",
        "data"
      ],
      "metadata": {
        "id": "eRqWRwr8mrE9"
      },
      "execution_count": null,
      "outputs": []
    },
    {
      "cell_type": "code",
      "source": [
        "# Now, check for null values in data using isna() or isnull().\n",
        "data.isnull().sum()"
      ],
      "metadata": {
        "id": "QDkDb8QKqeky"
      },
      "execution_count": null,
      "outputs": []
    },
    {
      "cell_type": "code",
      "source": [
        "# Having the ratio of nulls considering all entries\n",
        "(data.isnull().sum())/(data.size)*100"
      ],
      "metadata": {
        "id": "ADRXXShNjFix"
      },
      "execution_count": null,
      "outputs": []
    },
    {
      "cell_type": "code",
      "source": [
        "# Having the ratio of nulls per column\n",
        "(data.isnull().sum())/len(data)*100"
      ],
      "metadata": {
        "id": "FRpA6OFGkvbD"
      },
      "execution_count": null,
      "outputs": []
    },
    {
      "cell_type": "code",
      "source": [
        "# function to check null percentage while cleaning, just using the loop here\n",
        "def null_percent(datat):\n",
        "  null_percent = (data.isnull().sum()/len(data))*100\n",
        "  return null_percent\n",
        "\n",
        "result = null_percent(data)\n",
        "print(result)"
      ],
      "metadata": {
        "id": "BIAXpRmuNswg"
      },
      "execution_count": null,
      "outputs": []
    },
    {
      "cell_type": "code",
      "source": [
        "# both refill liters column are almost all NaN, I believe we should drop it.\n",
        "data.drop([\"refill_liters\", \"refill_gas\"], axis=1, inplace=True)"
      ],
      "metadata": {
        "id": "47hTfhwrlFcr"
      },
      "execution_count": 125,
      "outputs": []
    },
    {
      "cell_type": "code",
      "source": [
        "# for temp_inside I will assign the average temperature:\n",
        "data[\"temp_inside\"].fillna(data[\"temp_inside\"].mean(), inplace=True)"
      ],
      "metadata": {
        "id": "Nk9DaAKjd48y"
      },
      "execution_count": 126,
      "outputs": []
    },
    {
      "cell_type": "code",
      "source": [
        "# Let's check out what to do with specials\n",
        "data[\"specials\"].value_counts(dropna=False)"
      ],
      "metadata": {
        "id": "X1hn3HnKd43f"
      },
      "execution_count": null,
      "outputs": []
    },
    {
      "cell_type": "code",
      "source": [
        "# data is repeated in other specific columns so we don't need to keep them both\n",
        "data.drop([\"specials\"], axis =1, inplace=True)"
      ],
      "metadata": {
        "id": "t3iFmrSfmiSv"
      },
      "execution_count": 128,
      "outputs": []
    },
    {
      "cell_type": "code",
      "source": [
        "# extra info: get the fuel consumption (consumption per 100 of cars)\n",
        "data[\"consumption_by_100\"] = data[\"distance\"] * data[\"consume\"] / 100"
      ],
      "metadata": {
        "id": "tCsBg_KnkPLo"
      },
      "execution_count": 130,
      "outputs": []
    },
    {
      "cell_type": "code",
      "source": [
        "# extra info: time of travel in minutes\n",
        "data[\"time_travel_hour\"] = data[\"speed\"]/60"
      ],
      "metadata": {
        "id": "4Uc00bFvpBHb"
      },
      "execution_count": 151,
      "outputs": []
    },
    {
      "cell_type": "code",
      "source": [
        "data.to_csv(\"tech_callenge_cleaned.csv\")"
      ],
      "metadata": {
        "id": "R3y0uux7sgPV"
      },
      "execution_count": 163,
      "outputs": []
    },
    {
      "cell_type": "markdown",
      "source": [
        "# Plots and Correlations"
      ],
      "metadata": {
        "id": "w2UrL8TmtV7o"
      }
    },
    {
      "cell_type": "code",
      "source": [
        "columns_display = [\"distance\", \"consume\", \"speed\", \"gas_type\", \"consumption_by_100\", \"time_travel_hour\"]\n",
        "\n",
        "for column in columns_display:\n",
        "    sns.displot(data[column])\n",
        "    plt.title(f'Distribution of {column}')\n",
        "    plt.show()\n"
      ],
      "metadata": {
        "id": "FueUAlX0yegM"
      },
      "execution_count": null,
      "outputs": []
    },
    {
      "cell_type": "code",
      "source": [
        "# total distance using each gas\n",
        "sns.barplot(x='gas_type', y='distance', data=data, estimator=sum)\n",
        "plt.title('Total Distance for Each Gas Type')\n",
        "plt.xlabel('Gas Type')\n",
        "plt.ylabel('Total Distance (km)')\n",
        "plt.show()"
      ],
      "metadata": {
        "id": "e-y14T1gtSOV"
      },
      "execution_count": null,
      "outputs": []
    },
    {
      "cell_type": "code",
      "source": [
        "# It will be interesting to analyze the cost of trips:\n",
        "gas_prices = {\"E10\": 1.68, \"SP98\": 1.93}\n",
        "data[\"cost_per_trip\"] = data[\"consumption_by_100\"] * data[\"gas_type\"].map(gas_prices)"
      ],
      "metadata": {
        "id": "pVJabvc4PEyh"
      },
      "execution_count": 183,
      "outputs": []
    },
    {
      "cell_type": "code",
      "source": [
        "# and calculate the trips cost for each gas type\n",
        "cost_gas_type = data.groupby(\"gas_type\")[\"cost_per_trip\"].sum().reset_index()"
      ],
      "metadata": {
        "id": "wX2mmSNMPfIu"
      },
      "execution_count": 186,
      "outputs": []
    },
    {
      "cell_type": "code",
      "source": [
        "# Plot the total cost for each gas type\n",
        "sns.barplot(x=\"gas_type\", y=\"cost_per_trip\", data=cost_gas_type)\n",
        "plt.title(\"Total Cost of Trips for Each Gas Type\")\n",
        "plt.xlabel(\"Gas Type\")\n",
        "plt.ylabel(\"Total Cost (€)\")\n",
        "plt.show()"
      ],
      "metadata": {
        "id": "Bi2RMGGazMzY"
      },
      "execution_count": null,
      "outputs": []
    },
    {
      "cell_type": "code",
      "source": [
        "# For exercice statist]\n",
        "\n",
        "print(\"minimum value for cost per trip is\", data[\"cost_per_trip\"].min().round(3),\"€\")\n",
        "print(\"maximum value is\", data[\"cost_per_trip\"].max().round(3),\"€\")\n",
        "print(\"mean cost value is\", data[\"cost_per_trip\"].mean().round(3),\"€\")\n"
      ],
      "metadata": {
        "id": "qKSUFah8QQGJ"
      },
      "execution_count": null,
      "outputs": []
    },
    {
      "cell_type": "code",
      "source": [
        "# Setting Hypothesis\n",
        "import scipy.stats as st\n",
        "\n",
        "# H0: There is no significant difference between fuel consumption (like they are equal)\n",
        "# H1: There is a significant difference between fuel consumption (like they !=)\n",
        "\n",
        "t_statistic, p_value = st.ttest_ind(data[data[\"gas_type\"] == \"E10\"][\"consumption_by_100\"], data[data[\"gas_type\"] == \"SP98\"][\"consumption_by_100\"],equal_var=False)\n",
        "\n",
        "print(f\"T-statistic: {t_statistic}, P-value: {p_value}\")\n",
        "\n",
        "if p_value > 0.05:\n",
        "    print(\"I cannot reject the null hypothesis for the difference in consumption between E10 and SP98, so they are almost equal\")\n",
        "else:\n",
        "    print(\"I can reject the null hypothesis for the difference in consumption between E10 and SP98\")"
      ],
      "metadata": {
        "colab": {
          "base_uri": "https://localhost:8080/"
        },
        "id": "eA-NRP5ZXSSD",
        "outputId": "4d5ab31f-26f1-40bc-c3e2-f1fa68e01ac1"
      },
      "execution_count": 225,
      "outputs": [
        {
          "output_type": "stream",
          "name": "stdout",
          "text": [
            "T-statistic: 1.1348507838701907, P-value: 0.25715162660087737\n",
            "I cannot reject the null hypothesis for the difference in consumption between E10 and SP98, so they are almost equal\n"
          ]
        }
      ]
    },
    {
      "cell_type": "code",
      "source": [
        "# cost of trip now\n",
        "# H0: There is no significant difference between cost per trip (like they are equal)\n",
        "# H1: There is a significant difference between cost per trip (like they !=)\n",
        "\n",
        "t_statistic, p_value = st.ttest_ind(data[data[\"gas_type\"] == \"E10\"][\"cost_per_trip\"], data[data[\"gas_type\"] == \"SP98\"][\"cost_per_trip\"], equal_var=False)\n",
        "\n",
        "print(f\"T-statistic: {t_statistic}, P-value: {p_value}\")\n",
        "\n",
        "if p_value > 0.05:\n",
        "    print(\"I cannot reject the null hypothesis for the difference in cost per trip between E10 and SP98, so they are almost equal\")\n",
        "else:\n",
        "    print(\"I can reject the null hypothesis for the difference in cost per trip between E10 and SP98\")\n"
      ],
      "metadata": {
        "colab": {
          "base_uri": "https://localhost:8080/"
        },
        "id": "f7rFBLZsT6vr",
        "outputId": "b75d004c-dd31-4e0f-bab4-2d0f858e2ba0"
      },
      "execution_count": 227,
      "outputs": [
        {
          "output_type": "stream",
          "name": "stdout",
          "text": [
            "T-statistic: -0.0517205301755826, P-value: 0.9587781453517019\n",
            "I cannot reject the null hypothesis for the difference in cost per trip between E10 and SP98, so they are almost equal\n"
          ]
        }
      ]
    },
    {
      "cell_type": "code",
      "source": [
        "# having a view on what might be (more) correlated\n",
        "data.corr()"
      ],
      "metadata": {
        "id": "zOmvznPMT6tJ"
      },
      "execution_count": null,
      "outputs": []
    },
    {
      "cell_type": "code",
      "source": [
        "#checking the distance and speed:\n",
        "sns.scatterplot(x =\"distance\", y = \"speed\", data = data)\n",
        "plt.xlabel(\"distance\")\n",
        "plt.ylabel(\"speed\")\n",
        "\n",
        "sns.regplot(x =\"distance\", y = \"speed\", data = data, scatter = False, color = \"orange\")\n",
        "plt.show()"
      ],
      "metadata": {
        "id": "RL7lryU8miF7"
      },
      "execution_count": null,
      "outputs": []
    },
    {
      "cell_type": "code",
      "source": [
        "#checking the distance and consume:\n",
        "\n",
        "sns.scatterplot(x =\"distance\", y = \"consume\", data = data)\n",
        "plt.xlabel(\"distance\")\n",
        "plt.ylabel(\"consume\")\n",
        "\n",
        "sns.regplot(x =\"distance\", y = \"consume\", data = data, scatter = False, color = \"orange\")\n",
        "plt.show()"
      ],
      "metadata": {
        "id": "kCwL7Qj9h5W2"
      },
      "execution_count": null,
      "outputs": []
    },
    {
      "cell_type": "code",
      "source": [
        "# some ouliers there, but usually higher consume in smaller distances (traffic?)"
      ],
      "metadata": {
        "id": "MaoqnQr-iF-l"
      },
      "execution_count": null,
      "outputs": []
    },
    {
      "cell_type": "code",
      "source": [
        "# heatmap from all classes\n",
        "\n",
        "corr=np.abs(data.corr())\n",
        "\n",
        "#Set up mask for triangle representation\n",
        "mask = np.zeros_like(corr, dtype=bool)\n",
        "mask[np.triu_indices_from(mask)] = True\n",
        "\n",
        "# Set up the matplotlib figure\n",
        "f, ax = plt.subplots(figsize=(14, 14))\n",
        "# Generate a custom diverging colormap\n",
        "cmap = sns.diverging_palette(220, 10, as_cmap=True)\n",
        "# Draw the heatmap with the mask and correct aspect ratio\n",
        "sns.heatmap(corr, mask=mask,  vmax=1,square=True, linewidths=.5, cbar_kws={\"shrink\": .5},annot = corr)\n",
        "\n",
        "plt.show()\n"
      ],
      "metadata": {
        "id": "GS5cqu1-dG6M"
      },
      "execution_count": null,
      "outputs": []
    },
    {
      "cell_type": "code",
      "source": [
        "# Dropping columns with high collinearity:\n",
        "remaining_variables = ['distance', 'consume', 'speed', 'temp_inside', 'temp_outside', 'gas_type', 'ac', 'rain', 'sun',]\n",
        "\n",
        "corr=np.abs(data[remaining_variables].corr())\n",
        "\n",
        "#Set up mask for triangle representation\n",
        "mask = np.zeros_like(corr, dtype=bool)\n",
        "mask[np.triu_indices_from(mask)] = True\n",
        "\n",
        "# Set up the matplotlib figure\n",
        "f, ax = plt.subplots(figsize=(14, 14))\n",
        "# Generate a custom diverging colormap\n",
        "cmap = sns.diverging_palette(220, 10, as_cmap=True)\n",
        "# Draw the heatmap with the mask and correct aspect ratio\n",
        "sns.heatmap(corr, mask=mask,  vmax=1,square=True, linewidths=.5, cbar_kws={\"shrink\": .5},annot = corr)\n",
        "\n",
        "plt.show()"
      ],
      "metadata": {
        "id": "z86pMvmVT6qx"
      },
      "execution_count": null,
      "outputs": []
    },
    {
      "cell_type": "code",
      "source": [
        "from sklearn.metrics import r2_score, mean_squared_error"
      ],
      "metadata": {
        "id": "fiBZp0fQQP_R"
      },
      "execution_count": 236,
      "outputs": []
    },
    {
      "cell_type": "code",
      "source": [
        "def cool_function_model(y_true, y_predict):\n",
        "    r2 = r2_score(y_true, y_predict)\n",
        "    return r2"
      ],
      "metadata": {
        "id": "NhHaEJWuQP87"
      },
      "execution_count": 197,
      "outputs": []
    },
    {
      "cell_type": "code",
      "source": [
        "# Let's see if it works, predicting the cost per trip\n",
        "from sklearn.model_selection import train_test_split\n",
        "\n",
        "features = data.drop(columns=[\"consume\",\"cost_per_trip\",\"gas_type\"])\n",
        "target = data[\"consume\"]\n",
        "\n",
        "X_train, X_test, y_train, y_test = train_test_split(features, target, test_size=0.20, random_state=0)\n",
        "\n",
        "ln_model = LinearRegression()\n",
        "ln_model.fit(X_train, y_train)\n",
        "print(ln_model.score(X_train, y_train))\n",
        "\n",
        "pred = ln_model.predict(X_test)\n",
        "print(\"RMSE:\",np.sqrt(mean_squared_error(pred, y_test)))"
      ],
      "metadata": {
        "colab": {
          "base_uri": "https://localhost:8080/"
        },
        "id": "sR50PGBUQP6a",
        "outputId": "9bb35c4e-deac-4ddf-abd9-e476b2c7c811"
      },
      "execution_count": 246,
      "outputs": [
        {
          "output_type": "stream",
          "name": "stdout",
          "text": [
            "0.5193734445250409\n",
            "RMSE: 1.1617726407776565\n"
          ]
        }
      ]
    },
    {
      "cell_type": "code",
      "source": [
        "### Using other model to see if we get a higher score :\n",
        "from sklearn.neighbors import KNeighborsRegressor"
      ],
      "metadata": {
        "id": "hB0OEhDbjlsS"
      },
      "execution_count": 251,
      "outputs": []
    },
    {
      "cell_type": "code",
      "source": [
        "# K-Nearest Neighbors\n",
        "knn = KNeighborsRegressor(n_neighbors=3)\n",
        "knn.fit(X_train, y_train)\n",
        "pred_knn = knn.predict(X_test)\n",
        "print(\"KNN Score is\", knn.score(X_test, y_test))\n",
        "print(\"KNN RMSE:\", np.sqrt(mean_squared_error(pred_knn, y_test)))"
      ],
      "metadata": {
        "colab": {
          "base_uri": "https://localhost:8080/"
        },
        "id": "9QZTHEMcSI3E",
        "outputId": "6ce84c34-020c-49d4-a9a1-75c9d7f6f1f3"
      },
      "execution_count": 256,
      "outputs": [
        {
          "output_type": "stream",
          "name": "stdout",
          "text": [
            "KNN Score is 0.6621641522920103\n",
            "KNN RMSE: 0.7636600278766973\n"
          ]
        }
      ]
    },
    {
      "cell_type": "code",
      "source": [
        "# KNN looks better to predict the consume and the price range we can fail around"
      ],
      "metadata": {
        "id": "X255judISIyf"
      },
      "execution_count": null,
      "outputs": []
    },
    {
      "cell_type": "code",
      "source": [],
      "metadata": {
        "id": "D9SMT3iVozEC"
      },
      "execution_count": 87,
      "outputs": []
    }
  ]
}